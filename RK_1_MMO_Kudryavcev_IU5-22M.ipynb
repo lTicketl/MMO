{
  "nbformat": 4,
  "nbformat_minor": 0,
  "metadata": {
    "colab": {
      "name": "Untitled8.ipynb",
      "provenance": []
    },
    "kernelspec": {
      "name": "python3",
      "display_name": "Python 3"
    },
    "language_info": {
      "name": "python"
    }
  },
  "cells": [
    {
      "cell_type": "markdown",
      "source": [
        "Кудрявцев С.Д. ИУ5-22М РК №1 по ММО Вариант №7"
      ],
      "metadata": {
        "id": "ArUOnO7bqkJw"
      }
    },
    {
      "cell_type": "markdown",
      "source": [
        "Задание №1 (7) Для набора данных проведите устранение пропусков для одного (произвольного) числового признака с использованием метода заполнения медианой."
      ],
      "metadata": {
        "id": "nUuPGUzWquZM"
      }
    },
    {
      "cell_type": "code",
      "source": [
        "import pandas as pd\n",
        "import numpy as np\n",
        "import seaborn as sns\n",
        "import matplotlib.pyplot as plt\n",
        "import itertools\n",
        "import scipy.stats as ss\n",
        "from sklearn.impute import SimpleImputer"
      ],
      "metadata": {
        "id": "0fNvjms3qzAS"
      },
      "execution_count": 23,
      "outputs": []
    },
    {
      "cell_type": "code",
      "source": [
        "df = pd.read_csv('Prolific_Inventor.csv', encoding='ISO-8859-1')\n",
        "df['Inventors / Patent'].isnull().sum()"
      ],
      "metadata": {
        "colab": {
          "base_uri": "https://localhost:8080/"
        },
        "id": "ayp28j4FrE4f",
        "outputId": "2ee3f9b6-6fc2-4616-fa08-d318f4209f90"
      },
      "execution_count": 24,
      "outputs": [
        {
          "output_type": "execute_result",
          "data": {
            "text/plain": [
              "15"
            ]
          },
          "metadata": {},
          "execution_count": 24
        }
      ]
    },
    {
      "cell_type": "code",
      "source": [
        "def impute_column(dataset, column, strategy_param):\n",
        "    \"\"\"\n",
        "    Заполнение пропусков в одном признаке\n",
        "    \"\"\"\n",
        "    temp_data = dataset[[column]].values\n",
        "    imputer = SimpleImputer(strategy=strategy_param, \n",
        "                            fill_value=None)\n",
        "    all_data = imputer.fit_transform(temp_data)\n",
        "    dataset[[column]] = all_data\n",
        "    return dataset"
      ],
      "metadata": {
        "id": "TNxAnBf-wehS"
      },
      "execution_count": 25,
      "outputs": []
    },
    {
      "cell_type": "code",
      "source": [
        "all_data = impute_column(df, 'Inventors / Patent', 'median')\n",
        "all_data['Inventors / Patent'].isnull().sum()"
      ],
      "metadata": {
        "colab": {
          "base_uri": "https://localhost:8080/"
        },
        "id": "u9ru4uMotpsK",
        "outputId": "8e68aac6-188d-4443-f7c7-ed0560747d65"
      },
      "execution_count": 26,
      "outputs": [
        {
          "output_type": "execute_result",
          "data": {
            "text/plain": [
              "0"
            ]
          },
          "metadata": {},
          "execution_count": 26
        }
      ]
    },
    {
      "cell_type": "markdown",
      "source": [
        "Задание №2 (27) Для набора данных для одного (произвольного) числового признака проведите обнаружение и замену (найденными верхними и нижними границами) выбросов на основе 5% и 95% квантилей."
      ],
      "metadata": {
        "id": "QN61PhKJqwF4"
      }
    },
    {
      "cell_type": "code",
      "source": [
        "df.info()"
      ],
      "metadata": {
        "colab": {
          "base_uri": "https://localhost:8080/"
        },
        "id": "VqQFxbiAqzmJ",
        "outputId": "a7cf0934-0ca1-408b-e56e-39e882bd04ef"
      },
      "execution_count": 27,
      "outputs": [
        {
          "output_type": "stream",
          "name": "stdout",
          "text": [
            "<class 'pandas.core.frame.DataFrame'>\n",
            "RangeIndex: 333 entries, 0 to 332\n",
            "Data columns (total 8 columns):\n",
            " #   Column               Non-Null Count  Dtype  \n",
            "---  ------               --------------  -----  \n",
            " 0   Inventor             333 non-null    object \n",
            " 1   Patents              333 non-null    int64  \n",
            " 2   Residence            333 non-null    object \n",
            " 3   Patent Years         333 non-null    object \n",
            " 4   Years                333 non-null    float64\n",
            " 5   Patents / Year       333 non-null    int64  \n",
            " 6   Inventors / Patent   333 non-null    float64\n",
            " 7   Majority assignment  333 non-null    object \n",
            "dtypes: float64(2), int64(2), object(4)\n",
            "memory usage: 20.9+ KB\n"
          ]
        }
      ]
    },
    {
      "cell_type": "code",
      "source": [
        "from enum import Enum\n",
        "class OutlierBoundaryType(Enum):\n",
        "    QUANTILE = 2"
      ],
      "metadata": {
        "id": "Vv7qYbT7ylxS"
      },
      "execution_count": 28,
      "outputs": []
    },
    {
      "cell_type": "code",
      "source": [
        "def diagnostic_plots(df, variable, title):\n",
        "    fig, ax = plt.subplots(figsize=(10,7))\n",
        "    # гистограмма\n",
        "    plt.subplot(2, 2, 1)\n",
        "    df[variable].hist(bins=30)\n",
        "    ## Q-Q plot\n",
        "    plt.subplot(2, 2, 2)\n",
        "    ss.probplot(df[variable], dist=\"norm\", plot=plt)\n",
        "    # ящик с усами\n",
        "    plt.subplot(2, 2, 3)\n",
        "    sns.violinplot(x=df[variable])    \n",
        "    # ящик с усами\n",
        "    plt.subplot(2, 2, 4)\n",
        "    sns.boxplot(x=df[variable])  \n",
        "    fig.suptitle(title)\n",
        "    plt.show()\n",
        "\n",
        "\n",
        "# Функция вычисления верхней и нижней границы выбросов\n",
        "def get_outlier_boundaries(df, col, outlier_boundary_type: OutlierBoundaryType):\n",
        "    if outlier_boundary_type == OutlierBoundaryType.QUANTILE:\n",
        "        lower_boundary = df[col].quantile(0.05)\n",
        "        upper_boundary = df[col].quantile(0.95)\n",
        "\n",
        "    else:\n",
        "        raise NameError('Unknown Outlier Boundary Type')\n",
        "        \n",
        "    return lower_boundary, upper_boundary   "
      ],
      "metadata": {
        "id": "ga1mSU_UyYJW"
      },
      "execution_count": 31,
      "outputs": []
    },
    {
      "cell_type": "code",
      "source": [
        "for obt in OutlierBoundaryType:\n",
        "  # Вычисление верхней и нижней границы\n",
        "  lower_boundary, upper_boundary = get_outlier_boundaries(df, 'Patents', obt)\n",
        "  # Флаги для удаления выбросов\n",
        "  outliers_temp = np.where(df['Patents'] > upper_boundary, True, np.where(df['Patents'] < lower_boundary, True, False))\n",
        "  # Удаление данных на основе флага\n",
        "  data_trimmed = df.loc[~(outliers_temp), ]  \n",
        "  title = 'Поле-{}, метод-{}, строк-{}'.format('Patents', obt, data_trimmed.shape[0])\n",
        "  diagnostic_plots(data_trimmed, 'Patents', title)"
      ],
      "metadata": {
        "colab": {
          "base_uri": "https://localhost:8080/",
          "height": 493
        },
        "id": "_feooAepypIz",
        "outputId": "9976d807-f13a-4d79-c53e-d91f5d3f0c60"
      },
      "execution_count": 34,
      "outputs": [
        {
          "output_type": "display_data",
          "data": {
            "text/plain": [
              "<Figure size 720x504 with 4 Axes>"
            ],
            "image/png": "[encoded data removed]"
          },
          "metadata": {
            "needs_background": "light"
          }
        }
      ]
    }
  ]
}